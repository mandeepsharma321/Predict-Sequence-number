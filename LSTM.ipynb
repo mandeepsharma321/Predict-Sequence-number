{
 "cells": [
  {
   "cell_type": "code",
   "execution_count": 108,
   "metadata": {},
   "outputs": [],
   "source": [
    "import pandas as pd\n",
    "import numpy as np\n",
    "import matplotlib.pyplot as plt"
   ]
  },
  {
   "cell_type": "code",
   "execution_count": 109,
   "metadata": {},
   "outputs": [
    {
     "data": {
      "text/html": [
       "<div>\n",
       "<style scoped>\n",
       "    .dataframe tbody tr th:only-of-type {\n",
       "        vertical-align: middle;\n",
       "    }\n",
       "\n",
       "    .dataframe tbody tr th {\n",
       "        vertical-align: top;\n",
       "    }\n",
       "\n",
       "    .dataframe thead th {\n",
       "        text-align: right;\n",
       "    }\n",
       "</style>\n",
       "<table border=\"1\" class=\"dataframe\">\n",
       "  <thead>\n",
       "    <tr style=\"text-align: right;\">\n",
       "      <th></th>\n",
       "      <th>7.74108464</th>\n",
       "    </tr>\n",
       "  </thead>\n",
       "  <tbody>\n",
       "    <tr>\n",
       "      <th>0</th>\n",
       "      <td>7.762000</td>\n",
       "    </tr>\n",
       "    <tr>\n",
       "      <th>1</th>\n",
       "      <td>7.788000</td>\n",
       "    </tr>\n",
       "    <tr>\n",
       "      <th>2</th>\n",
       "      <td>7.808400</td>\n",
       "    </tr>\n",
       "    <tr>\n",
       "      <th>3</th>\n",
       "      <td>7.823564</td>\n",
       "    </tr>\n",
       "    <tr>\n",
       "      <th>4</th>\n",
       "      <td>7.812000</td>\n",
       "    </tr>\n",
       "  </tbody>\n",
       "</table>\n",
       "</div>"
      ],
      "text/plain": [
       "   7.74108464\n",
       "0    7.762000\n",
       "1    7.788000\n",
       "2    7.808400\n",
       "3    7.823564\n",
       "4    7.812000"
      ]
     },
     "execution_count": 109,
     "metadata": {},
     "output_type": "execute_result"
    }
   ],
   "source": [
    "data = pd.read_csv('Data.txt')\n",
    "data.head()"
   ]
  },
  {
   "cell_type": "code",
   "execution_count": 110,
   "metadata": {},
   "outputs": [
    {
     "data": {
      "text/html": [
       "<div>\n",
       "<style scoped>\n",
       "    .dataframe tbody tr th:only-of-type {\n",
       "        vertical-align: middle;\n",
       "    }\n",
       "\n",
       "    .dataframe tbody tr th {\n",
       "        vertical-align: top;\n",
       "    }\n",
       "\n",
       "    .dataframe thead th {\n",
       "        text-align: right;\n",
       "    }\n",
       "</style>\n",
       "<table border=\"1\" class=\"dataframe\">\n",
       "  <thead>\n",
       "    <tr style=\"text-align: right;\">\n",
       "      <th></th>\n",
       "      <th>Seq_num</th>\n",
       "    </tr>\n",
       "  </thead>\n",
       "  <tbody>\n",
       "    <tr>\n",
       "      <th>0</th>\n",
       "      <td>7.762000</td>\n",
       "    </tr>\n",
       "    <tr>\n",
       "      <th>1</th>\n",
       "      <td>7.788000</td>\n",
       "    </tr>\n",
       "    <tr>\n",
       "      <th>2</th>\n",
       "      <td>7.808400</td>\n",
       "    </tr>\n",
       "    <tr>\n",
       "      <th>3</th>\n",
       "      <td>7.823564</td>\n",
       "    </tr>\n",
       "    <tr>\n",
       "      <th>4</th>\n",
       "      <td>7.812000</td>\n",
       "    </tr>\n",
       "    <tr>\n",
       "      <th>...</th>\n",
       "      <td>...</td>\n",
       "    </tr>\n",
       "    <tr>\n",
       "      <th>4994</th>\n",
       "      <td>7.738000</td>\n",
       "    </tr>\n",
       "    <tr>\n",
       "      <th>4995</th>\n",
       "      <td>7.738000</td>\n",
       "    </tr>\n",
       "    <tr>\n",
       "      <th>4996</th>\n",
       "      <td>7.740000</td>\n",
       "    </tr>\n",
       "    <tr>\n",
       "      <th>4997</th>\n",
       "      <td>7.739548</td>\n",
       "    </tr>\n",
       "    <tr>\n",
       "      <th>4998</th>\n",
       "      <td>7.742000</td>\n",
       "    </tr>\n",
       "  </tbody>\n",
       "</table>\n",
       "<p>4999 rows × 1 columns</p>\n",
       "</div>"
      ],
      "text/plain": [
       "       Seq_num\n",
       "0     7.762000\n",
       "1     7.788000\n",
       "2     7.808400\n",
       "3     7.823564\n",
       "4     7.812000\n",
       "...        ...\n",
       "4994  7.738000\n",
       "4995  7.738000\n",
       "4996  7.740000\n",
       "4997  7.739548\n",
       "4998  7.742000\n",
       "\n",
       "[4999 rows x 1 columns]"
      ]
     },
     "execution_count": 110,
     "metadata": {},
     "output_type": "execute_result"
    }
   ],
   "source": [
    "# Rename a column\n",
    "\n",
    "data.rename(columns={'7.74108464':'Seq_num'},inplace=True)\n",
    "data"
   ]
  },
  {
   "cell_type": "code",
   "execution_count": 161,
   "metadata": {},
   "outputs": [
    {
     "data": {
      "text/html": [
       "<div>\n",
       "<style scoped>\n",
       "    .dataframe tbody tr th:only-of-type {\n",
       "        vertical-align: middle;\n",
       "    }\n",
       "\n",
       "    .dataframe tbody tr th {\n",
       "        vertical-align: top;\n",
       "    }\n",
       "\n",
       "    .dataframe thead th {\n",
       "        text-align: right;\n",
       "    }\n",
       "</style>\n",
       "<table border=\"1\" class=\"dataframe\">\n",
       "  <thead>\n",
       "    <tr style=\"text-align: right;\">\n",
       "      <th></th>\n",
       "      <th>Seq_num</th>\n",
       "    </tr>\n",
       "  </thead>\n",
       "  <tbody>\n",
       "    <tr>\n",
       "      <th>4989</th>\n",
       "      <td>7.730600</td>\n",
       "    </tr>\n",
       "    <tr>\n",
       "      <th>4990</th>\n",
       "      <td>7.734000</td>\n",
       "    </tr>\n",
       "    <tr>\n",
       "      <th>4991</th>\n",
       "      <td>7.738000</td>\n",
       "    </tr>\n",
       "    <tr>\n",
       "      <th>4992</th>\n",
       "      <td>7.740793</td>\n",
       "    </tr>\n",
       "    <tr>\n",
       "      <th>4993</th>\n",
       "      <td>7.738000</td>\n",
       "    </tr>\n",
       "    <tr>\n",
       "      <th>4994</th>\n",
       "      <td>7.738000</td>\n",
       "    </tr>\n",
       "    <tr>\n",
       "      <th>4995</th>\n",
       "      <td>7.738000</td>\n",
       "    </tr>\n",
       "    <tr>\n",
       "      <th>4996</th>\n",
       "      <td>7.740000</td>\n",
       "    </tr>\n",
       "    <tr>\n",
       "      <th>4997</th>\n",
       "      <td>7.739548</td>\n",
       "    </tr>\n",
       "    <tr>\n",
       "      <th>4998</th>\n",
       "      <td>7.742000</td>\n",
       "    </tr>\n",
       "  </tbody>\n",
       "</table>\n",
       "</div>"
      ],
      "text/plain": [
       "       Seq_num\n",
       "4989  7.730600\n",
       "4990  7.734000\n",
       "4991  7.738000\n",
       "4992  7.740793\n",
       "4993  7.738000\n",
       "4994  7.738000\n",
       "4995  7.738000\n",
       "4996  7.740000\n",
       "4997  7.739548\n",
       "4998  7.742000"
      ]
     },
     "execution_count": 161,
     "metadata": {},
     "output_type": "execute_result"
    }
   ],
   "source": [
    "# print the data now.\n",
    "data.tail(10)"
   ]
  },
  {
   "cell_type": "code",
   "execution_count": 112,
   "metadata": {},
   "outputs": [
    {
     "data": {
      "text/plain": [
       "(4999, 1)"
      ]
     },
     "execution_count": 112,
     "metadata": {},
     "output_type": "execute_result"
    }
   ],
   "source": [
    "data.shape"
   ]
  },
  {
   "cell_type": "code",
   "execution_count": 113,
   "metadata": {},
   "outputs": [],
   "source": [
    "import tensorflow "
   ]
  },
  {
   "cell_type": "code",
   "execution_count": 114,
   "metadata": {},
   "outputs": [],
   "source": [
    "from keras.models import Sequential\n",
    "from keras.layers import LSTM\n",
    "from keras.layers import Dense, LSTM, Dropout, GRU, Bidirectional\n",
    "from keras.layers import Flatten\n",
    "import math\n",
    "from sklearn.metrics import mean_squared_error\n",
    "\n"
   ]
  },
  {
   "cell_type": "code",
   "execution_count": 115,
   "metadata": {},
   "outputs": [],
   "source": [
    "# prepairing independent and dependent data\n",
    "\n",
    "def prepare_data(time_ser_data,n_features):\n",
    "    x,y=[],[]\n",
    "    for i in range(len(time_ser_data)):\n",
    "        # find the end of this pattern\n",
    "\n",
    "        end_pattern = i+n_features\n",
    "        # check if we are beyond the sequenec\n",
    "        if end_pattern >len(time_ser_data)-1:\n",
    "            break\n",
    "\n",
    "        # gather input and output part of the pattern\n",
    "        seq_x,seq_y = time_ser_data[i:end_pattern],time_ser_data[end_pattern]\n",
    "        x.append(seq_x)\n",
    "        y.append(seq_y)\n",
    "    return np.array(x),np.array(y)\n"
   ]
  },
  {
   "cell_type": "code",
   "execution_count": 116,
   "metadata": {},
   "outputs": [
    {
     "data": {
      "text/plain": [
       "(4999,)"
      ]
     },
     "execution_count": 116,
     "metadata": {},
     "output_type": "execute_result"
    }
   ],
   "source": [
    "# define input sequence\n",
    "\n",
    "time_ser_data =data.iloc[:,0]\n",
    "time_ser_data.shape"
   ]
  },
  {
   "cell_type": "code",
   "execution_count": 167,
   "metadata": {},
   "outputs": [],
   "source": [
    "# choose a  number of time steps\n",
    "\n",
    "n_steps= 4\n",
    "\n",
    "# split into samples\n",
    "x , y = prepare_data(time_ser_data,n_steps)"
   ]
  },
  {
   "cell_type": "code",
   "execution_count": 168,
   "metadata": {},
   "outputs": [
    {
     "name": "stdout",
     "output_type": "stream",
     "text": [
      "[[7.762      7.788      7.8084     7.82356438]\n",
      " [7.788      7.8084     7.82356438 7.812     ]\n",
      " [7.8084     7.82356438 7.812      7.82      ]\n",
      " ...\n",
      " [7.74079268 7.738      7.738      7.738     ]\n",
      " [7.738      7.738      7.738      7.74      ]\n",
      " [7.738      7.738      7.74       7.73954768]]\n"
     ]
    },
    {
     "data": {
      "text/plain": [
       "(4995, 4)"
      ]
     },
     "execution_count": 168,
     "metadata": {},
     "output_type": "execute_result"
    }
   ],
   "source": [
    "print(x) \n",
    "x.shape"
   ]
  },
  {
   "cell_type": "code",
   "execution_count": 169,
   "metadata": {},
   "outputs": [
    {
     "name": "stdout",
     "output_type": "stream",
     "text": [
      "[7.812      7.82       7.8288     ... 7.74       7.73954768 7.742     ]\n"
     ]
    },
    {
     "data": {
      "text/plain": [
       "(4995,)"
      ]
     },
     "execution_count": 169,
     "metadata": {},
     "output_type": "execute_result"
    }
   ],
   "source": [
    "print(y)\n",
    "y.shape"
   ]
  },
  {
   "cell_type": "code",
   "execution_count": 170,
   "metadata": {},
   "outputs": [
    {
     "data": {
      "text/plain": [
       "(4995, 4, 1)"
      ]
     },
     "execution_count": 170,
     "metadata": {},
     "output_type": "execute_result"
    }
   ],
   "source": [
    "# convert sample feature [samples, timesteps] to 3D [samples,timesteps,n_features]\n",
    "\n",
    "n_feature = 1\n",
    "x = x.reshape((x.shape[0],x.shape[1],n_feature))\n",
    "x.shape "
   ]
  },
  {
   "cell_type": "code",
   "execution_count": 171,
   "metadata": {},
   "outputs": [
    {
     "data": {
      "text/plain": [
       "(4995, 4)"
      ]
     },
     "execution_count": 171,
     "metadata": {},
     "output_type": "execute_result"
    }
   ],
   "source": [
    "x.shape[0] , x.shape[1]"
   ]
  },
  {
   "cell_type": "code",
   "execution_count": 172,
   "metadata": {},
   "outputs": [],
   "source": [
    "# implement LSTM model.\n",
    "\n",
    "model = Sequential()\n",
    "model.add(LSTM(50,activation='relu',return_sequences=True, input_shape=(n_steps,n_feature )))\n",
    "model.add(LSTM(50,activation='relu'))\n",
    "model.add(Dense(1))\n",
    "model.compile(optimizer='adam',loss = 'mse')"
   ]
  },
  {
   "cell_type": "code",
   "execution_count": 173,
   "metadata": {},
   "outputs": [
    {
     "name": "stdout",
     "output_type": "stream",
     "text": [
      "Epoch 1/100\n",
      "157/157 [==============================] - 3s 7ms/step - loss: 5.9710\n",
      "Epoch 2/100\n",
      "157/157 [==============================] - 1s 7ms/step - loss: 0.0717\n",
      "Epoch 3/100\n",
      "157/157 [==============================] - 1s 7ms/step - loss: 0.0538\n",
      "Epoch 4/100\n",
      "157/157 [==============================] - 1s 6ms/step - loss: 0.0371\n",
      "Epoch 5/100\n",
      "157/157 [==============================] - 1s 6ms/step - loss: 0.0213\n",
      "Epoch 6/100\n",
      "157/157 [==============================] - 1s 6ms/step - loss: 0.0080\n",
      "Epoch 7/100\n",
      "157/157 [==============================] - 1s 6ms/step - loss: 9.8401e-04\n",
      "Epoch 8/100\n",
      "157/157 [==============================] - 1s 6ms/step - loss: 4.6581e-04\n",
      "Epoch 9/100\n",
      "157/157 [==============================] - 1s 6ms/step - loss: 4.2006e-04\n",
      "Epoch 10/100\n",
      "157/157 [==============================] - 1s 6ms/step - loss: 4.7433e-04\n",
      "Epoch 11/100\n",
      "157/157 [==============================] - 1s 6ms/step - loss: 4.1867e-04\n",
      "Epoch 12/100\n",
      "157/157 [==============================] - 1s 7ms/step - loss: 5.2557e-04\n",
      "Epoch 13/100\n",
      "157/157 [==============================] - 1s 6ms/step - loss: 4.8359e-04\n",
      "Epoch 14/100\n",
      "157/157 [==============================] - 1s 7ms/step - loss: 4.6304e-04\n",
      "Epoch 15/100\n",
      "157/157 [==============================] - 1s 6ms/step - loss: 4.6229e-04\n",
      "Epoch 16/100\n",
      "157/157 [==============================] - 1s 6ms/step - loss: 5.1676e-04\n",
      "Epoch 17/100\n",
      "157/157 [==============================] - 1s 7ms/step - loss: 4.9670e-04\n",
      "Epoch 18/100\n",
      "157/157 [==============================] - 1s 6ms/step - loss: 4.8154e-04\n",
      "Epoch 19/100\n",
      "157/157 [==============================] - 1s 7ms/step - loss: 5.0192e-04\n",
      "Epoch 20/100\n",
      "157/157 [==============================] - 1s 7ms/step - loss: 5.6145e-04\n",
      "Epoch 21/100\n",
      "157/157 [==============================] - 1s 7ms/step - loss: 4.5084e-04\n",
      "Epoch 22/100\n",
      "157/157 [==============================] - 1s 7ms/step - loss: 5.1488e-04\n",
      "Epoch 23/100\n",
      "157/157 [==============================] - 1s 7ms/step - loss: 4.5876e-04\n",
      "Epoch 24/100\n",
      "157/157 [==============================] - 1s 7ms/step - loss: 5.1501e-04\n",
      "Epoch 25/100\n",
      "157/157 [==============================] - 1s 7ms/step - loss: 6.1342e-04\n",
      "Epoch 26/100\n",
      "157/157 [==============================] - 1s 9ms/step - loss: 4.5173e-04\n",
      "Epoch 27/100\n",
      "157/157 [==============================] - 2s 10ms/step - loss: 6.9602e-04\n",
      "Epoch 28/100\n",
      "157/157 [==============================] - 1s 7ms/step - loss: 6.4206e-04\n",
      "Epoch 29/100\n",
      "157/157 [==============================] - 1s 6ms/step - loss: 7.4251e-04\n",
      "Epoch 30/100\n",
      "157/157 [==============================] - 1s 6ms/step - loss: 6.4981e-04\n",
      "Epoch 31/100\n",
      "157/157 [==============================] - 1s 7ms/step - loss: 7.7521e-04\n",
      "Epoch 32/100\n",
      "157/157 [==============================] - 1s 8ms/step - loss: 7.4000e-04\n",
      "Epoch 33/100\n",
      "157/157 [==============================] - 1s 7ms/step - loss: 6.1664e-04\n",
      "Epoch 34/100\n",
      "157/157 [==============================] - 1s 6ms/step - loss: 0.0010\n",
      "Epoch 35/100\n",
      "157/157 [==============================] - 1s 6ms/step - loss: 6.2894e-04\n",
      "Epoch 36/100\n",
      "157/157 [==============================] - 1s 6ms/step - loss: 7.8681e-04\n",
      "Epoch 37/100\n",
      "157/157 [==============================] - 1s 7ms/step - loss: 6.7572e-04\n",
      "Epoch 38/100\n",
      "157/157 [==============================] - 1s 7ms/step - loss: 9.5395e-04\n",
      "Epoch 39/100\n",
      "157/157 [==============================] - 1s 7ms/step - loss: 6.2583e-04\n",
      "Epoch 40/100\n",
      "157/157 [==============================] - 1s 8ms/step - loss: 8.3184e-04\n",
      "Epoch 41/100\n",
      "157/157 [==============================] - 1s 8ms/step - loss: 7.7012e-04\n",
      "Epoch 42/100\n",
      "157/157 [==============================] - 1s 6ms/step - loss: 6.4176e-04\n",
      "Epoch 43/100\n",
      "157/157 [==============================] - 1s 6ms/step - loss: 9.8920e-04\n",
      "Epoch 44/100\n",
      "157/157 [==============================] - 1s 6ms/step - loss: 0.0011\n",
      "Epoch 45/100\n",
      "157/157 [==============================] - 1s 6ms/step - loss: 6.7921e-04\n",
      "Epoch 46/100\n",
      "157/157 [==============================] - 1s 6ms/step - loss: 9.5185e-04\n",
      "Epoch 47/100\n",
      "157/157 [==============================] - 1s 6ms/step - loss: 0.0014\n",
      "Epoch 48/100\n",
      "157/157 [==============================] - 1s 6ms/step - loss: 6.1040e-04\n",
      "Epoch 49/100\n",
      "157/157 [==============================] - 1s 6ms/step - loss: 5.9239e-04\n",
      "Epoch 50/100\n",
      "157/157 [==============================] - 1s 6ms/step - loss: 9.0995e-04\n",
      "Epoch 51/100\n",
      "157/157 [==============================] - 1s 6ms/step - loss: 6.6390e-04\n",
      "Epoch 52/100\n",
      "157/157 [==============================] - 1s 6ms/step - loss: 0.0010\n",
      "Epoch 53/100\n",
      "157/157 [==============================] - 1s 6ms/step - loss: 9.1910e-04\n",
      "Epoch 54/100\n",
      "157/157 [==============================] - 1s 7ms/step - loss: 8.2566e-04\n",
      "Epoch 55/100\n",
      "157/157 [==============================] - 1s 6ms/step - loss: 5.1309e-04\n",
      "Epoch 56/100\n",
      "157/157 [==============================] - 1s 6ms/step - loss: 0.0011\n",
      "Epoch 57/100\n",
      "157/157 [==============================] - 1s 6ms/step - loss: 9.6050e-04\n",
      "Epoch 58/100\n",
      "157/157 [==============================] - 1s 6ms/step - loss: 8.5305e-04\n",
      "Epoch 59/100\n",
      "157/157 [==============================] - 1s 6ms/step - loss: 7.8439e-04\n",
      "Epoch 60/100\n",
      "157/157 [==============================] - 1s 6ms/step - loss: 8.5550e-04\n",
      "Epoch 61/100\n",
      "157/157 [==============================] - 1s 7ms/step - loss: 8.8131e-04\n",
      "Epoch 62/100\n",
      "157/157 [==============================] - 1s 6ms/step - loss: 6.5066e-04\n",
      "Epoch 63/100\n",
      "157/157 [==============================] - 1s 6ms/step - loss: 5.8860e-04\n",
      "Epoch 64/100\n",
      "157/157 [==============================] - 1s 6ms/step - loss: 6.1325e-04\n",
      "Epoch 65/100\n",
      "157/157 [==============================] - 1s 6ms/step - loss: 9.3872e-04\n",
      "Epoch 66/100\n",
      "157/157 [==============================] - 1s 6ms/step - loss: 6.1460e-04\n",
      "Epoch 67/100\n",
      "157/157 [==============================] - 1s 6ms/step - loss: 9.7246e-04\n",
      "Epoch 68/100\n",
      "157/157 [==============================] - 1s 6ms/step - loss: 9.2996e-04\n",
      "Epoch 69/100\n",
      "157/157 [==============================] - 1s 6ms/step - loss: 0.0013\n",
      "Epoch 70/100\n",
      "157/157 [==============================] - 1s 6ms/step - loss: 7.1207e-04\n",
      "Epoch 71/100\n",
      "157/157 [==============================] - 1s 6ms/step - loss: 6.2894e-04\n",
      "Epoch 72/100\n",
      "157/157 [==============================] - 1s 6ms/step - loss: 6.4210e-04\n",
      "Epoch 73/100\n",
      "157/157 [==============================] - 1s 7ms/step - loss: 7.1694e-04\n",
      "Epoch 74/100\n",
      "157/157 [==============================] - 1s 6ms/step - loss: 7.7629e-04\n",
      "Epoch 75/100\n",
      "157/157 [==============================] - 1s 6ms/step - loss: 6.8493e-04\n",
      "Epoch 76/100\n",
      "157/157 [==============================] - 1s 6ms/step - loss: 6.7406e-04\n",
      "Epoch 77/100\n",
      "157/157 [==============================] - 1s 6ms/step - loss: 5.7009e-04\n",
      "Epoch 78/100\n",
      "157/157 [==============================] - 1s 6ms/step - loss: 7.5599e-04\n",
      "Epoch 79/100\n",
      "157/157 [==============================] - 1s 6ms/step - loss: 5.7754e-04\n",
      "Epoch 80/100\n",
      "157/157 [==============================] - 1s 6ms/step - loss: 5.9091e-04\n",
      "Epoch 81/100\n",
      "157/157 [==============================] - 1s 6ms/step - loss: 6.9942e-04\n",
      "Epoch 82/100\n",
      "157/157 [==============================] - 1s 6ms/step - loss: 7.4511e-04\n",
      "Epoch 83/100\n",
      "157/157 [==============================] - 1s 6ms/step - loss: 7.2922e-04\n",
      "Epoch 84/100\n",
      "157/157 [==============================] - 1s 6ms/step - loss: 8.8337e-04\n",
      "Epoch 85/100\n",
      "157/157 [==============================] - 1s 6ms/step - loss: 6.5067e-04\n",
      "Epoch 86/100\n",
      "157/157 [==============================] - 1s 6ms/step - loss: 6.2798e-04\n",
      "Epoch 87/100\n",
      "157/157 [==============================] - 1s 6ms/step - loss: 6.2724e-04\n",
      "Epoch 88/100\n",
      "157/157 [==============================] - 1s 6ms/step - loss: 7.2041e-04\n",
      "Epoch 89/100\n",
      "157/157 [==============================] - 1s 7ms/step - loss: 8.7175e-04\n",
      "Epoch 90/100\n",
      "157/157 [==============================] - 1s 6ms/step - loss: 6.4973e-04\n",
      "Epoch 91/100\n",
      "157/157 [==============================] - 1s 6ms/step - loss: 6.3193e-04\n",
      "Epoch 92/100\n",
      "157/157 [==============================] - 1s 6ms/step - loss: 5.6953e-04\n",
      "Epoch 93/100\n",
      "157/157 [==============================] - 1s 6ms/step - loss: 5.6904e-04\n",
      "Epoch 94/100\n",
      "157/157 [==============================] - 1s 6ms/step - loss: 8.4544e-04\n",
      "Epoch 95/100\n",
      "157/157 [==============================] - 1s 6ms/step - loss: 6.4007e-04\n",
      "Epoch 96/100\n",
      "157/157 [==============================] - 1s 6ms/step - loss: 5.0126e-04\n",
      "Epoch 97/100\n",
      "157/157 [==============================] - 1s 6ms/step - loss: 6.8429e-04\n",
      "Epoch 98/100\n",
      "157/157 [==============================] - 1s 6ms/step - loss: 5.2914e-04\n",
      "Epoch 99/100\n",
      "157/157 [==============================] - 1s 6ms/step - loss: 7.2206e-04\n",
      "Epoch 100/100\n",
      "157/157 [==============================] - 1s 6ms/step - loss: 5.1912e-04\n"
     ]
    },
    {
     "data": {
      "text/plain": [
       "<keras.callbacks.History at 0x7fbcb8a64d60>"
      ]
     },
     "execution_count": 173,
     "metadata": {},
     "output_type": "execute_result"
    }
   ],
   "source": [
    "# fit model\n",
    "#  number of passes of the entire training dataset \n",
    "\n",
    "model.fit(x,y ,epochs=100 , verbose=1)"
   ]
  },
  {
   "cell_type": "code",
   "execution_count": 174,
   "metadata": {},
   "outputs": [
    {
     "name": "stdout",
     "output_type": "stream",
     "text": [
      "Model: \"sequential_4\"\n",
      "_________________________________________________________________\n",
      " Layer (type)                Output Shape              Param #   \n",
      "=================================================================\n",
      " lstm_11 (LSTM)              (None, 4, 50)             10400     \n",
      "                                                                 \n",
      " lstm_12 (LSTM)              (None, 50)                20200     \n",
      "                                                                 \n",
      " dense_4 (Dense)             (None, 1)                 51        \n",
      "                                                                 \n",
      "=================================================================\n",
      "Total params: 30,651\n",
      "Trainable params: 30,651\n",
      "Non-trainable params: 0\n",
      "_________________________________________________________________\n"
     ]
    }
   ],
   "source": [
    "model.summary()"
   ]
  },
  {
   "cell_type": "code",
   "execution_count": 176,
   "metadata": {},
   "outputs": [
    {
     "name": "stdout",
     "output_type": "stream",
     "text": [
      "[7.739171]\n",
      "[7.739171]\n",
      "1 day input [7.734      7.738      7.740793   7.73917103]\n",
      "1 day output [[7.7413306]]\n",
      "[7.739171, 7.7413306]\n",
      "2 day input [7.738      7.740793   7.73917103 7.74133062]\n",
      "2 day output [[7.7425146]]\n",
      "[7.739171, 7.7413306, 7.7425146]\n",
      "3 day input [7.740793   7.73917103 7.74133062 7.74251461]\n",
      "3 day output [[7.743999]]\n",
      "[7.739171, 7.7413306, 7.7425146, 7.743999]\n"
     ]
    }
   ],
   "source": [
    "# predict next 4 days\n",
    "\n",
    "x_input= np.array([7.730600,7.734000,7.738000,7.740793])\n",
    "\n",
    "list_x= list(x_input)\n",
    "lst_output = []\n",
    "i = 0\n",
    "while(i<4):\n",
    "    if(len(list_x)>4):\n",
    "        x_input=np.array(list_x[1:])\n",
    "        print('{} day input {}'.format(i,x_input))\n",
    "\n",
    "        # print x_input\n",
    "        x_input= x_input.reshape((1,n_steps,n_feature))\n",
    "\n",
    "        # print y_pred\n",
    "\n",
    "        y_pred = model.predict(x_input,verbose = 0)\n",
    "        print('{} day output {}'.format(i,y_pred))\n",
    "        list_x.append(y_pred[0][0])\n",
    "        list_x = list_x[1:]\n",
    "\n",
    "        lst_output.append(y_pred[0][0])\n",
    "        i = i+1\n",
    "    else:\n",
    "        x_input= x_input.reshape((1,n_steps,n_feature))\n",
    "        y_pred = model.predict(x_input,verbose = 0)\n",
    "        print(y_pred[0])\n",
    "        list_x.append(y_pred[0][0])\n",
    "        lst_output.append(y_pred[0][0])\n",
    "        i = i+1\n",
    "    print(lst_output)\n",
    "        \n",
    "\n",
    "\n",
    "    \n"
   ]
  },
  {
   "cell_type": "code",
   "execution_count": null,
   "metadata": {},
   "outputs": [],
   "source": []
  }
 ],
 "metadata": {
  "kernelspec": {
   "display_name": "Python 3.10.4 64-bit",
   "language": "python",
   "name": "python3"
  },
  "language_info": {
   "codemirror_mode": {
    "name": "ipython",
    "version": 3
   },
   "file_extension": ".py",
   "mimetype": "text/x-python",
   "name": "python",
   "nbconvert_exporter": "python",
   "pygments_lexer": "ipython3",
   "version": "3.10.4"
  },
  "orig_nbformat": 4,
  "vscode": {
   "interpreter": {
    "hash": "31f2aee4e71d21fbe5cf8b01ff0e069b9275f58929596ceb00d14d90e3e16cd6"
   }
  }
 },
 "nbformat": 4,
 "nbformat_minor": 2
}
